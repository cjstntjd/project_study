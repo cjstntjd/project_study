{
  "nbformat": 4,
  "nbformat_minor": 0,
  "metadata": {
    "colab": {
      "name": "movie.ipynb",
      "provenance": [],
      "collapsed_sections": [],
      "include_colab_link": true
    },
    "kernelspec": {
      "name": "python3",
      "display_name": "Python 3"
    }
  },
  "cells": [
    {
      "cell_type": "markdown",
      "metadata": {
        "id": "view-in-github",
        "colab_type": "text"
      },
      "source": [
        "<a href=\"https://colab.research.google.com/github/cjstntjd/project_study/blob/master/movie.ipynb\" target=\"_parent\"><img src=\"https://colab.research.google.com/assets/colab-badge.svg\" alt=\"Open In Colab\"/></a>"
      ]
    },
    {
      "cell_type": "code",
      "metadata": {
        "id": "qojdLaabs-90",
        "colab_type": "code",
        "colab": {
          "base_uri": "https://localhost:8080/",
          "height": 125
        },
        "outputId": "9ecda4e0-a5bf-40af-f834-1fa7ed90f721"
      },
      "source": [
        "from google.colab import drive\n",
        "drive.mount('/gdrive',force_remount = True)"
      ],
      "execution_count": 1,
      "outputs": [
        {
          "output_type": "stream",
          "text": [
            "Go to this URL in a browser: https://accounts.google.com/o/oauth2/auth?client_id=947318989803-6bn6qk8qdgf4n4g3pfee6491hc0brc4i.apps.googleusercontent.com&redirect_uri=urn%3aietf%3awg%3aoauth%3a2.0%3aoob&response_type=code&scope=email%20https%3a%2f%2fwww.googleapis.com%2fauth%2fdocs.test%20https%3a%2f%2fwww.googleapis.com%2fauth%2fdrive%20https%3a%2f%2fwww.googleapis.com%2fauth%2fdrive.photos.readonly%20https%3a%2f%2fwww.googleapis.com%2fauth%2fpeopleapi.readonly\n",
            "\n",
            "Enter your authorization code:\n",
            "··········\n",
            "Mounted at /gdrive\n"
          ],
          "name": "stdout"
        }
      ]
    },
    {
      "cell_type": "code",
      "metadata": {
        "id": "kjTq20PivNNm",
        "colab_type": "code",
        "colab": {
          "base_uri": "https://localhost:8080/",
          "height": 1000
        },
        "outputId": "0127d39b-fd26-4f1b-a643-f02fcdfea323"
      },
      "source": [
        "import numpy as np\n",
        "import json\n",
        "import pandas as pd\n",
        "\n",
        "meta = pd.read_csv('/gdrive/My Drive/스터디/개인과제/영화추천/the-movies-dataset/movies_metadata.csv',low_memory=False)\n",
        "print(meta.head())\n",
        "meta = meta[['id', 'original_title', 'original_language', 'genres']]\n",
        "meta = meta.rename(columns={'id':'movieId'})\n",
        "meta = meta[meta['original_language'] == 'en']\n",
        "print(meta.head())\n",
        "ratings = pd.read_csv('/gdrive/My Drive/스터디/개인과제/영화추천/the-movies-dataset/ratings_small.csv')\n",
        "ratings = ratings[['userId', 'movieId', 'rating']]\n",
        "print(ratings.head())\n",
        "print(ratings.describe())\n",
        "meta.movieId = pd.to_numeric(meta.movieId, errors='coerce')\n",
        "ratings.movieId = pd.to_numeric(ratings.movieId, errors='coerce')\n",
        "def parse_genres(genres_str):\n",
        "    genres = json.loads(genres_str.replace('\\'', '\"'))\n",
        "    \n",
        "    genres_list = []\n",
        "    for g in genres:\n",
        "        genres_list.append(g['name'])\n",
        "\n",
        "    return genres_list\n",
        "\n",
        "meta['genres'] = meta['genres'].apply(parse_genres)\n",
        "print(meta.head())\n",
        "data = pd.merge(ratings, meta, on='movieId', how='inner')\n",
        "\n",
        "print(data.head())\n",
        "matrix = data.pivot_table(index='userId', columns='original_title', values='rating')\n",
        "\n",
        "print(matrix.head(20))\n",
        "GENRE_WEIGHT = 0.1\n",
        "\n",
        "#피어슨 상관 계수 사용 \n",
        "def pearsonR(s1, s2):\n",
        "    s1_c = s1 - s1.mean()\n",
        "    s2_c = s2 - s2.mean()\n",
        "    return np.sum(s1_c * s2_c) / np.sqrt(np.sum(s1_c ** 2) * np.sum(s2_c ** 2))\n",
        "\n",
        "def recommend(input_movie, matrix, n, similar_genre=True):\n",
        "    input_genres = meta[meta['original_title'] == input_movie]['genres'].iloc(0)[0]\n",
        "\n",
        "    result = []\n",
        "    for title in matrix.columns:\n",
        "        if title == input_movie:\n",
        "            continue\n",
        "\n",
        "        # 레이팅 비교\n",
        "        cor = pearsonR(matrix[input_movie], matrix[title])\n",
        "        \n",
        "        # 장르비교 고장 자꾸남 \n",
        "        if similar_genre and len(input_genres) > 0:\n",
        "            temp_genres = meta[meta['original_title'] == title]['genres'].iloc(0)[0]\n",
        "\n",
        "            same_count = np.sum(np.isin(input_genres, temp_genres))\n",
        "            cor += (GENRE_WEIGHT * same_count)\n",
        "        \n",
        "        if np.isnan(cor):\n",
        "            continue\n",
        "        else:\n",
        "            result.append((title, '{:.2f}'.format(cor), temp_genres))\n",
        "            \n",
        "    result.sort(key=lambda r: r[1], reverse=True)\n",
        "\n",
        "    return result[:n]\n",
        "\n",
        "recommend_result = recommend('Iron Man', matrix, 10, similar_genre=True)\n",
        "\n",
        "print(pd.DataFrame(recommend_result, columns = ['Title', 'Correlation', 'Genre']))"
      ],
      "execution_count": 22,
      "outputs": [
        {
          "output_type": "stream",
          "text": [
            "   adult  ... vote_count\n",
            "0  False  ...     5415.0\n",
            "1  False  ...     2413.0\n",
            "2  False  ...       92.0\n",
            "3  False  ...       34.0\n",
            "4  False  ...      173.0\n",
            "\n",
            "[5 rows x 24 columns]\n",
            "  movieId  ...                                             genres\n",
            "0     862  ...  [{'id': 16, 'name': 'Animation'}, {'id': 35, '...\n",
            "1    8844  ...  [{'id': 12, 'name': 'Adventure'}, {'id': 14, '...\n",
            "2   15602  ...  [{'id': 10749, 'name': 'Romance'}, {'id': 35, ...\n",
            "3   31357  ...  [{'id': 35, 'name': 'Comedy'}, {'id': 18, 'nam...\n",
            "4   11862  ...                     [{'id': 35, 'name': 'Comedy'}]\n",
            "\n",
            "[5 rows x 4 columns]\n",
            "   userId  movieId  rating\n",
            "0       1       31     2.5\n",
            "1       1     1029     3.0\n",
            "2       1     1061     3.0\n",
            "3       1     1129     2.0\n",
            "4       1     1172     4.0\n",
            "              userId        movieId         rating\n",
            "count  100004.000000  100004.000000  100004.000000\n",
            "mean      347.011310   12548.664363       3.543608\n",
            "std       195.163838   26369.198969       1.058064\n",
            "min         1.000000       1.000000       0.500000\n",
            "25%       182.000000    1028.000000       3.000000\n",
            "50%       367.000000    2406.500000       4.000000\n",
            "75%       520.000000    5418.000000       4.000000\n",
            "max       671.000000  163949.000000       5.000000\n",
            "   movieId  ...                        genres\n",
            "0      862  ...   [Animation, Comedy, Family]\n",
            "1     8844  ...  [Adventure, Fantasy, Family]\n",
            "2    15602  ...             [Romance, Comedy]\n",
            "3    31357  ...      [Comedy, Drama, Romance]\n",
            "4    11862  ...                      [Comedy]\n",
            "\n",
            "[5 rows x 4 columns]\n",
            "   userId  movieId  rating original_title original_language   genres\n",
            "0       1     1371     2.5      Rocky III                en  [Drama]\n",
            "1       4     1371     4.0      Rocky III                en  [Drama]\n",
            "2       7     1371     3.0      Rocky III                en  [Drama]\n",
            "3      19     1371     4.0      Rocky III                en  [Drama]\n",
            "4      21     1371     3.0      Rocky III                en  [Drama]\n",
            "original_title  !Women Art Revolution  ...  Мой сводный брат Франкенштейн\n",
            "userId                                 ...                               \n",
            "1                                 NaN  ...                            NaN\n",
            "2                                 NaN  ...                            NaN\n",
            "3                                 NaN  ...                            NaN\n",
            "4                                 NaN  ...                            NaN\n",
            "5                                 NaN  ...                            NaN\n",
            "6                                 NaN  ...                            NaN\n",
            "7                                 NaN  ...                            NaN\n",
            "8                                 NaN  ...                            NaN\n",
            "9                                 NaN  ...                            NaN\n",
            "10                                NaN  ...                            NaN\n",
            "11                                NaN  ...                            NaN\n",
            "12                                NaN  ...                            NaN\n",
            "13                                NaN  ...                            NaN\n",
            "14                                NaN  ...                            NaN\n",
            "15                                NaN  ...                            NaN\n",
            "16                                NaN  ...                            NaN\n",
            "17                                NaN  ...                            NaN\n",
            "18                                NaN  ...                            NaN\n",
            "19                                NaN  ...                            NaN\n",
            "20                                NaN  ...                            NaN\n",
            "\n",
            "[20 rows x 2034 columns]\n"
          ],
          "name": "stdout"
        },
        {
          "output_type": "stream",
          "text": [
            "/usr/local/lib/python3.6/dist-packages/ipykernel_launcher.py:39: RuntimeWarning: invalid value encountered in double_scalars\n"
          ],
          "name": "stderr"
        },
        {
          "output_type": "stream",
          "text": [
            "                                          Title  ...                                              Genre\n",
            "0        Star Trek VI: The Undiscovered Country  ...     [Science Fiction, Action, Adventure, Thriller]\n",
            "1  Star Wars: Episode III - Revenge of the Sith  ...               [Science Fiction, Adventure, Action]\n",
            "2                                Knight of Cups  ...                                   [Romance, Drama]\n",
            "3                                     Mad Max 2  ...     [Adventure, Action, Thriller, Science Fiction]\n",
            "4                    Rambo: First Blood Part II  ...                 [Action, Adventure, Thriller, War]\n",
            "5                                      Sneakers  ...                             [Comedy, Crime, Drama]\n",
            "6                            Shaft's Big Score!  ...                [Action, Adventure, Crime, Mystery]\n",
            "7                  Man with the Screaming Brain  ...                  [Comedy, Horror, Science Fiction]\n",
            "8                                         Metro  ...       [Action, Adventure, Comedy, Crime, Thriller]\n",
            "9              Teenage Mutant Ninja Turtles III  ...  [Action, Adventure, Comedy, Family, Fantasy, S...\n",
            "\n",
            "[10 rows x 3 columns]\n"
          ],
          "name": "stdout"
        }
      ]
    }
  ]
}